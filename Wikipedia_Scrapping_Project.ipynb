{
 "cells": [
  {
   "cell_type": "code",
   "execution_count": 88,
   "metadata": {},
   "outputs": [],
   "source": [
    "import requests\n",
    "from bs4 import BeautifulSoup\n",
    "import pandas as pd"
   ]
  },
  {
   "cell_type": "markdown",
   "metadata": {},
   "source": [
    "##### (1) Get Request for Page:"
   ]
  },
  {
   "cell_type": "code",
   "execution_count": 89,
   "metadata": {},
   "outputs": [
    {
     "data": {
      "text/plain": [
       "<Response [200]>"
      ]
     },
     "execution_count": 89,
     "metadata": {},
     "output_type": "execute_result"
    }
   ],
   "source": [
    "res = requests.get('https://en.wikipedia.org/wiki/List_of_Nobel_laureates')\n",
    "res"
   ]
  },
  {
   "cell_type": "markdown",
   "metadata": {},
   "source": [
    "##### (2) Find The Data Container:"
   ]
  },
  {
   "cell_type": "code",
   "execution_count": 90,
   "metadata": {},
   "outputs": [],
   "source": [
    "soup = BeautifulSoup(res.text,'html.parser')"
   ]
  },
  {
   "cell_type": "code",
   "execution_count": 91,
   "metadata": {},
   "outputs": [],
   "source": [
    "container = soup.find('table',attrs={'class':'wikitable sortable'}) ## Loop"
   ]
  },
  {
   "cell_type": "markdown",
   "metadata": {},
   "source": [
    "##### (3) Scarp One Row Data:"
   ]
  },
  {
   "cell_type": "code",
   "execution_count": 92,
   "metadata": {},
   "outputs": [
    {
     "data": {
      "text/plain": [
       "'1902'"
      ]
     },
     "execution_count": 92,
     "metadata": {},
     "output_type": "execute_result"
    }
   ],
   "source": [
    "# Find Year:\n",
    "year = container.tbody.find_all('tr')[2].th.text.strip()\n",
    "year"
   ]
  },
  {
   "cell_type": "code",
   "execution_count": 93,
   "metadata": {},
   "outputs": [],
   "source": [
    "# Find Rest of Features:\n",
    "physics = fileds_conatiner[0].text.strip()\n",
    "chemistry = fileds_conatiner[1].text.strip()\n",
    "physiology_medicine = fileds_conatiner[2].text.strip()\n",
    "literature = fileds_conatiner[3].text.strip()\n",
    "peace = fileds_conatiner[4].text.strip()\n",
    "economic = fileds_conatiner[5].text.strip()\n"
   ]
  },
  {
   "cell_type": "code",
   "execution_count": 94,
   "metadata": {},
   "outputs": [
    {
     "name": "stdout",
     "output_type": "stream",
     "text": [
      "Wilhelm Röntgen Jacobus Henricus van 't Hoff Emil von Behring Sully Prudhomme Henry Dunant;Frédéric Passy —\n"
     ]
    }
   ],
   "source": [
    "print(physics,chemistry,physiology_medicine,literature,peace,economic)"
   ]
  },
  {
   "cell_type": "markdown",
   "metadata": {},
   "source": [
    "##### (4) All Rows Data Collecting:"
   ]
  },
  {
   "cell_type": "code",
   "execution_count": 95,
   "metadata": {},
   "outputs": [],
   "source": [
    "with open('Wikipedia_Scrapping_Project.csv','w',encoding='utf-8') as fd:\n",
    "    fd.write('Year,Physics,Chemistry,Physiology or Medicine,Literature,Peace,Economic\\n')\n",
    "    rows = container.find_all('tr')    \n",
    "    for i in range(1,len(rows)):\n",
    "        fields_container = rows[i].find_all('td')\n",
    "        # Find Year:\n",
    "        year = rows[i].find('th').text.strip()\n",
    "        # Find Rest of Features:\n",
    "        physics = fields_container[0].text.strip() if len(fields_container) > 0 else ' '\n",
    "        chemistry = fields_container[1].text.strip() if len(fields_container) > 1 else ' '\n",
    "        physiology_medicine = fields_container[2].text.strip() if len(fields_container) > 2 else ' '\n",
    "        literature = fields_container[3].text.strip() if len(fields_container) > 3 else ' '\n",
    "        peace = fields_container[4].text.strip() if len(fields_container) > 4 else ' '\n",
    "        economic = fields_container[5].text.strip() if len(fields_container) > 5 else ' '\n",
    "\n",
    "        #Data Writing:\n",
    "        fd.write(f'\"{year}\",\"{physics}\",\"{chemistry}\",\"{physiology_medicine}\",\"{literature}\",\"{peace}\",\"{economic}\"\\n')"
   ]
  },
  {
   "cell_type": "code",
   "execution_count": 96,
   "metadata": {},
   "outputs": [
    {
     "data": {
      "text/html": [
       "<div>\n",
       "<style scoped>\n",
       "    .dataframe tbody tr th:only-of-type {\n",
       "        vertical-align: middle;\n",
       "    }\n",
       "\n",
       "    .dataframe tbody tr th {\n",
       "        vertical-align: top;\n",
       "    }\n",
       "\n",
       "    .dataframe thead th {\n",
       "        text-align: right;\n",
       "    }\n",
       "</style>\n",
       "<table border=\"1\" class=\"dataframe\">\n",
       "  <thead>\n",
       "    <tr style=\"text-align: right;\">\n",
       "      <th></th>\n",
       "      <th>Year</th>\n",
       "      <th>Physics</th>\n",
       "      <th>Chemistry</th>\n",
       "      <th>Physiology or Medicine</th>\n",
       "      <th>Literature</th>\n",
       "      <th>Peace</th>\n",
       "      <th>Economic</th>\n",
       "    </tr>\n",
       "  </thead>\n",
       "  <tbody>\n",
       "    <tr>\n",
       "      <th>0</th>\n",
       "      <td>1901</td>\n",
       "      <td>Wilhelm Röntgen</td>\n",
       "      <td>Jacobus Henricus van 't Hoff</td>\n",
       "      <td>Emil von Behring</td>\n",
       "      <td>Sully Prudhomme</td>\n",
       "      <td>Henry Dunant;Frédéric Passy</td>\n",
       "      <td>—</td>\n",
       "    </tr>\n",
       "    <tr>\n",
       "      <th>1</th>\n",
       "      <td>1902</td>\n",
       "      <td>Hendrik Lorentz;Pieter Zeeman</td>\n",
       "      <td>Emil Fischer</td>\n",
       "      <td>Ronald Ross</td>\n",
       "      <td>Theodor Mommsen</td>\n",
       "      <td>Élie Ducommun;Charles Albert Gobat</td>\n",
       "      <td></td>\n",
       "    </tr>\n",
       "    <tr>\n",
       "      <th>2</th>\n",
       "      <td>1903</td>\n",
       "      <td>Henri Becquerel;Pierre Curie;Marie Curie</td>\n",
       "      <td>Svante Arrhenius</td>\n",
       "      <td>Niels Ryberg Finsen</td>\n",
       "      <td>Bjørnstjerne Bjørnson</td>\n",
       "      <td>Randal Cremer</td>\n",
       "      <td></td>\n",
       "    </tr>\n",
       "    <tr>\n",
       "      <th>3</th>\n",
       "      <td>1904</td>\n",
       "      <td>Lord Rayleigh</td>\n",
       "      <td>William Ramsay</td>\n",
       "      <td>Ivan Pavlov</td>\n",
       "      <td>Frédéric Mistral;José Echegaray</td>\n",
       "      <td>Institut de Droit International</td>\n",
       "      <td></td>\n",
       "    </tr>\n",
       "    <tr>\n",
       "      <th>4</th>\n",
       "      <td>1905</td>\n",
       "      <td>Philipp Lenard</td>\n",
       "      <td>Adolf von Baeyer</td>\n",
       "      <td>Robert Koch</td>\n",
       "      <td>Henryk Sienkiewicz</td>\n",
       "      <td>Bertha von Suttner</td>\n",
       "      <td></td>\n",
       "    </tr>\n",
       "    <tr>\n",
       "      <th>...</th>\n",
       "      <td>...</td>\n",
       "      <td>...</td>\n",
       "      <td>...</td>\n",
       "      <td>...</td>\n",
       "      <td>...</td>\n",
       "      <td>...</td>\n",
       "      <td>...</td>\n",
       "    </tr>\n",
       "    <tr>\n",
       "      <th>119</th>\n",
       "      <td>2020</td>\n",
       "      <td>Roger Penrose;Reinhard Genzel;Andrea M. Ghez</td>\n",
       "      <td>Emmanuelle Charpentier;Jennifer Doudna</td>\n",
       "      <td>Harvey J. Alter;Michael Houghton;Charles M. Rice</td>\n",
       "      <td>Louise Glück</td>\n",
       "      <td>World Food Programme</td>\n",
       "      <td>Paul Milgrom;Robert B. Wilson</td>\n",
       "    </tr>\n",
       "    <tr>\n",
       "      <th>120</th>\n",
       "      <td>2021</td>\n",
       "      <td>Giorgio Parisi;Klaus Hasselmann;Syukuro Manabe</td>\n",
       "      <td>Benjamin List;David MacMillan</td>\n",
       "      <td>David Julius;Ardem Patapoutian</td>\n",
       "      <td>Abdulrazak Gurnah</td>\n",
       "      <td>Maria Ressa;Dmitry Muratov</td>\n",
       "      <td>David Card;Joshua Angrist;Guido Imbens</td>\n",
       "    </tr>\n",
       "    <tr>\n",
       "      <th>121</th>\n",
       "      <td>2022</td>\n",
       "      <td>Alain Aspect;John Clauser;Anton Zeilinger</td>\n",
       "      <td>Carolyn Bertozzi;Morten P. Meldal;Karl Barry S...</td>\n",
       "      <td>Svante Pääbo</td>\n",
       "      <td>Annie Ernaux</td>\n",
       "      <td>Ales Bialiatski;Memorial;Centre for Civil Libe...</td>\n",
       "      <td>Ben Bernanke;Douglas Diamond;Philip H. Dybvig</td>\n",
       "    </tr>\n",
       "    <tr>\n",
       "      <th>122</th>\n",
       "      <td>2023</td>\n",
       "      <td>Pierre Agostini;Ferenc Krausz;Anne L'Huillier</td>\n",
       "      <td>Moungi Bawendi;Louis E. Brus;Alexey Ekimov</td>\n",
       "      <td>Katalin Karikó;Drew Weissman</td>\n",
       "      <td>Jon Fosse</td>\n",
       "      <td>Narges Mohammadi</td>\n",
       "      <td>Claudia Goldin</td>\n",
       "    </tr>\n",
       "    <tr>\n",
       "      <th>123</th>\n",
       "      <td>Year</td>\n",
       "      <td></td>\n",
       "      <td></td>\n",
       "      <td></td>\n",
       "      <td></td>\n",
       "      <td></td>\n",
       "      <td></td>\n",
       "    </tr>\n",
       "  </tbody>\n",
       "</table>\n",
       "<p>124 rows × 7 columns</p>\n",
       "</div>"
      ],
      "text/plain": [
       "     Year                                         Physics  \\\n",
       "0    1901                                 Wilhelm Röntgen   \n",
       "1    1902                   Hendrik Lorentz;Pieter Zeeman   \n",
       "2    1903        Henri Becquerel;Pierre Curie;Marie Curie   \n",
       "3    1904                                   Lord Rayleigh   \n",
       "4    1905                                  Philipp Lenard   \n",
       "..    ...                                             ...   \n",
       "119  2020    Roger Penrose;Reinhard Genzel;Andrea M. Ghez   \n",
       "120  2021  Giorgio Parisi;Klaus Hasselmann;Syukuro Manabe   \n",
       "121  2022       Alain Aspect;John Clauser;Anton Zeilinger   \n",
       "122  2023   Pierre Agostini;Ferenc Krausz;Anne L'Huillier   \n",
       "123  Year                                                   \n",
       "\n",
       "                                             Chemistry  \\\n",
       "0                         Jacobus Henricus van 't Hoff   \n",
       "1                                         Emil Fischer   \n",
       "2                                     Svante Arrhenius   \n",
       "3                                       William Ramsay   \n",
       "4                                     Adolf von Baeyer   \n",
       "..                                                 ...   \n",
       "119             Emmanuelle Charpentier;Jennifer Doudna   \n",
       "120                      Benjamin List;David MacMillan   \n",
       "121  Carolyn Bertozzi;Morten P. Meldal;Karl Barry S...   \n",
       "122         Moungi Bawendi;Louis E. Brus;Alexey Ekimov   \n",
       "123                                                      \n",
       "\n",
       "                               Physiology or Medicine  \\\n",
       "0                                    Emil von Behring   \n",
       "1                                         Ronald Ross   \n",
       "2                                 Niels Ryberg Finsen   \n",
       "3                                         Ivan Pavlov   \n",
       "4                                         Robert Koch   \n",
       "..                                                ...   \n",
       "119  Harvey J. Alter;Michael Houghton;Charles M. Rice   \n",
       "120                    David Julius;Ardem Patapoutian   \n",
       "121                                      Svante Pääbo   \n",
       "122                      Katalin Karikó;Drew Weissman   \n",
       "123                                                     \n",
       "\n",
       "                          Literature  \\\n",
       "0                    Sully Prudhomme   \n",
       "1                    Theodor Mommsen   \n",
       "2              Bjørnstjerne Bjørnson   \n",
       "3    Frédéric Mistral;José Echegaray   \n",
       "4                 Henryk Sienkiewicz   \n",
       "..                               ...   \n",
       "119                     Louise Glück   \n",
       "120                Abdulrazak Gurnah   \n",
       "121                     Annie Ernaux   \n",
       "122                        Jon Fosse   \n",
       "123                                    \n",
       "\n",
       "                                                 Peace  \\\n",
       "0                          Henry Dunant;Frédéric Passy   \n",
       "1                   Élie Ducommun;Charles Albert Gobat   \n",
       "2                                        Randal Cremer   \n",
       "3                      Institut de Droit International   \n",
       "4                                   Bertha von Suttner   \n",
       "..                                                 ...   \n",
       "119                               World Food Programme   \n",
       "120                         Maria Ressa;Dmitry Muratov   \n",
       "121  Ales Bialiatski;Memorial;Centre for Civil Libe...   \n",
       "122                                   Narges Mohammadi   \n",
       "123                                                      \n",
       "\n",
       "                                          Economic  \n",
       "0                                                —  \n",
       "1                                                   \n",
       "2                                                   \n",
       "3                                                   \n",
       "4                                                   \n",
       "..                                             ...  \n",
       "119                  Paul Milgrom;Robert B. Wilson  \n",
       "120         David Card;Joshua Angrist;Guido Imbens  \n",
       "121  Ben Bernanke;Douglas Diamond;Philip H. Dybvig  \n",
       "122                                 Claudia Goldin  \n",
       "123                                                 \n",
       "\n",
       "[124 rows x 7 columns]"
      ]
     },
     "execution_count": 96,
     "metadata": {},
     "output_type": "execute_result"
    }
   ],
   "source": [
    "pd.read_csv('Wikipedia_Scrapping_Project.csv')"
   ]
  }
 ],
 "metadata": {
  "kernelspec": {
   "display_name": "machine_learning",
   "language": "python",
   "name": "python3"
  },
  "language_info": {
   "codemirror_mode": {
    "name": "ipython",
    "version": 3
   },
   "file_extension": ".py",
   "mimetype": "text/x-python",
   "name": "python",
   "nbconvert_exporter": "python",
   "pygments_lexer": "ipython3",
   "version": "3.9.19"
  }
 },
 "nbformat": 4,
 "nbformat_minor": 2
}
